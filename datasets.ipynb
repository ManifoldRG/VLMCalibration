{
 "cells": [
  {
   "cell_type": "code",
   "execution_count": 1,
   "metadata": {},
   "outputs": [],
   "source": [
    "import json\n",
    "import os\n",
    "import glob\n",
    "from datasets import load_dataset"
   ]
  },
  {
   "cell_type": "code",
   "execution_count": 79,
   "metadata": {},
   "outputs": [],
   "source": [
    "dataset = load_dataset(\"cais/mmlu\", \"all\")"
   ]
  },
  {
   "cell_type": "code",
   "execution_count": 91,
   "metadata": {},
   "outputs": [
    {
     "name": "stdout",
     "output_type": "stream",
     "text": [
      "Dataset({\n",
      "    features: ['question', 'subject', 'choices', 'answer'],\n",
      "    num_rows: 14042\n",
      "})\n"
     ]
    }
   ],
   "source": [
    "dataset_split = 'test'\n",
    "print(dataset[dataset_split])\n",
    "# item = dataset[dataset_split][0]\n",
    "# print(item.keys())"
   ]
  },
  {
   "cell_type": "code",
   "execution_count": 88,
   "metadata": {},
   "outputs": [
    {
     "name": "stdout",
     "output_type": "stream",
     "text": [
      "The following is a multiple choice question (with choices) about abstract algebra.\n",
      "Reason and give a final answer to the question. Your response should end with 'The final answer is [answer]' where [answer] is solely the letter corresponding to the correct choice.\n",
      "Question: Find the degree for the given field extension Q(sqrt(2), sqrt(3), sqrt(18)) over Q.\n",
      "Choices:\n",
      "A: 0\n",
      "B: 4\n",
      "C: 2\n",
      "D: 6\n",
      "\n"
     ]
    }
   ],
   "source": [
    "question = dataset[dataset_split][0]['question']\n",
    "choices_list = dataset[dataset_split][0]['choices']\n",
    "subject = dataset[dataset_split][0]['subject'].replace(\"_\", \" \")\n",
    "formatted_choices = \"\\n\".join([f\"{chr(65 + i)}: {choice}\" for i, choice in enumerate(choices_list)])\n",
    "question_str = (\n",
    "    f\"The following is a multiple choice question (with choices) about {subject}.\\nReason and give a final answer to the question. Your response should end with 'The final answer is [answer]' where [answer] is solely the letter corresponding to the correct choice.\\n\"\n",
    "    f\"Question: {question}\\n\"\n",
    "    f\"Choices:\\n{formatted_choices}\\n\"\n",
    "    # f\"Your response should end with 'The final answer is [answer]' where [answer] is solely the letter corresponding to the correct choice.\"\n",
    ")\n",
    "print(question_str)"
   ]
  },
  {
   "cell_type": "code",
   "execution_count": 21,
   "metadata": {},
   "outputs": [
    {
     "data": {
      "application/vnd.jupyter.widget-view+json": {
       "model_id": "967557d4e66e4489ba71886b15cdcb0f",
       "version_major": 2,
       "version_minor": 0
      },
      "text/plain": [
       "(…)_2024-07-22T14-58-05.681299.parquet.gzip:   0%|          | 0.00/12.9M [00:00<?, ?B/s]"
      ]
     },
     "metadata": {},
     "output_type": "display_data"
    },
    {
     "data": {
      "application/vnd.jupyter.widget-view+json": {
       "model_id": "35051033b2f44d49b3c96b9d21d88df6",
       "version_major": 2,
       "version_minor": 0
      },
      "text/plain": [
       "Generating latest split:   0%|          | 0/14042 [00:00<?, ? examples/s]"
      ]
     },
     "metadata": {},
     "output_type": "display_data"
    }
   ],
   "source": [
    "\n",
    "test_dataset = load_dataset(\"meta-llama/Llama-3.1-8B-evals\", \"Llama-3.1-8B-evals__mmlu__details\")"
   ]
  },
  {
   "cell_type": "code",
   "execution_count": 67,
   "metadata": {},
   "outputs": [
    {
     "name": "stdout",
     "output_type": "stream",
     "text": [
      "dict_keys(['task_type', 'task_name', 'subtask_name', 'input_question', 'input_choice_list', 'input_final_prompts', 'input_correct_responses', 'output_prediction_text', 'output_parsed_answer', 'output_choice_completions', 'output_choice_negative_log_likelihoods', 'output_metrics', 'is_correct', 'input_question_hash', 'input_final_prompts_hash', 'benchmark_label', 'eval_config'])\n",
      "{\n",
      "  \"task_type\": \"Choice\",\n",
      "  \"task_name\": \"mmlu\",\n",
      "  \"subtask_name\": \"high_school_chemistry\",\n",
      "  \"input_question\": \"Nitrous acid, HNO2, has a pKa value of 3.3. If a solution of nitrous acid is found to have a pH of 4.2, what can be said about the concentration of the conjugate acid/base pair found in solution?\",\n",
      "  \"input_choice_list\": {\n",
      "    \"A\": \"[HNO2] > [NO2-]\",\n",
      "    \"B\": \"[NO2-] > [HNO2]\",\n",
      "    \"C\": \"[H2NO2+] > [HNO2]\",\n",
      "    \"D\": \"[HNO2] > [H2NO2+]\"\n",
      "  },\n",
      "  \"input_final_prompts\": [\n",
      "    \"The following are multiple choice questions (with answers) about high school chemistry.\\n\\nWhich of the following is considered an acid anhydride?\\nA. HCl\\nB. H2SO3\\nC. SO2\\nD. Al(NO3)3\\nAnswer: C\\n\\nWhich of the following is expected to be a polar molecule?\\nA. PCl4F\\nB. BF3\\nC. CO2\\nD. Si(CH3)4\\nAnswer: A\\n\\nFrom the solubility rules, which of the following is true?\\nA. All chlorides, bromides, and iodides are soluble\\nB. All sulfates are soluble\\nC. All hydroxides are soluble\\nD. All ammonium-containing compounds are soluble\\nAnswer: D\\n\\nA new compound is synthesized and found to be a monoprotic acid with a molar mass of 248 g/mol. When 0.0050 mol of this acid are dissolved in 0.500 L of water, the pH is measured as 3.89. What is the pKa of this acid?\\nA. 3.89\\nB. 7.78\\nC. 5.78\\nD. 2.33\\nAnswer: C\\n\\nA solution contains 2.00 mole of acetic acid, CH3COOH, and 1.00 mole of calcium acetate, Ca(CH3COO)2. The solution is able to resist the addition of a small amount of strong acid or strong base with only minor changes in the pH of the solution. Larger quantities of strong acid or strong base can cause a significant change in pH. How many moles of nitric acid, HNO3, may be added before the pH begins to change significantly?\\nA. 0.500 mole\\nB. 1.00 mole\\nC. 2.00 mole\\nD. 3.00 mole\\nAnswer: C\\n\\nNitrous acid, HNO2, has a pKa value of 3.3. If a solution of nitrous acid is found to have a pH of 4.2, what can be said about the concentration of the conjugate acid/base pair found in solution?\\nA. [HNO2] > [NO2-]\\nB. [NO2-] > [HNO2]\\nC. [H2NO2+] > [HNO2]\\nD. [HNO2] > [H2NO2+]\\nAnswer: A\",\n",
      "    \"The following are multiple choice questions (with answers) about high school chemistry.\\n\\nWhich of the following is considered an acid anhydride?\\nA. HCl\\nB. H2SO3\\nC. SO2\\nD. Al(NO3)3\\nAnswer: C\\n\\nWhich of the following is expected to be a polar molecule?\\nA. PCl4F\\nB. BF3\\nC. CO2\\nD. Si(CH3)4\\nAnswer: A\\n\\nFrom the solubility rules, which of the following is true?\\nA. All chlorides, bromides, and iodides are soluble\\nB. All sulfates are soluble\\nC. All hydroxides are soluble\\nD. All ammonium-containing compounds are soluble\\nAnswer: D\\n\\nA new compound is synthesized and found to be a monoprotic acid with a molar mass of 248 g/mol. When 0.0050 mol of this acid are dissolved in 0.500 L of water, the pH is measured as 3.89. What is the pKa of this acid?\\nA. 3.89\\nB. 7.78\\nC. 5.78\\nD. 2.33\\nAnswer: C\\n\\nA solution contains 2.00 mole of acetic acid, CH3COOH, and 1.00 mole of calcium acetate, Ca(CH3COO)2. The solution is able to resist the addition of a small amount of strong acid or strong base with only minor changes in the pH of the solution. Larger quantities of strong acid or strong base can cause a significant change in pH. How many moles of nitric acid, HNO3, may be added before the pH begins to change significantly?\\nA. 0.500 mole\\nB. 1.00 mole\\nC. 2.00 mole\\nD. 3.00 mole\\nAnswer: C\\n\\nNitrous acid, HNO2, has a pKa value of 3.3. If a solution of nitrous acid is found to have a pH of 4.2, what can be said about the concentration of the conjugate acid/base pair found in solution?\\nA. [HNO2] > [NO2-]\\nB. [NO2-] > [HNO2]\\nC. [H2NO2+] > [HNO2]\\nD. [HNO2] > [H2NO2+]\\nAnswer: B\",\n",
      "    \"The following are multiple choice questions (with answers) about high school chemistry.\\n\\nWhich of the following is considered an acid anhydride?\\nA. HCl\\nB. H2SO3\\nC. SO2\\nD. Al(NO3)3\\nAnswer: C\\n\\nWhich of the following is expected to be a polar molecule?\\nA. PCl4F\\nB. BF3\\nC. CO2\\nD. Si(CH3)4\\nAnswer: A\\n\\nFrom the solubility rules, which of the following is true?\\nA. All chlorides, bromides, and iodides are soluble\\nB. All sulfates are soluble\\nC. All hydroxides are soluble\\nD. All ammonium-containing compounds are soluble\\nAnswer: D\\n\\nA new compound is synthesized and found to be a monoprotic acid with a molar mass of 248 g/mol. When 0.0050 mol of this acid are dissolved in 0.500 L of water, the pH is measured as 3.89. What is the pKa of this acid?\\nA. 3.89\\nB. 7.78\\nC. 5.78\\nD. 2.33\\nAnswer: C\\n\\nA solution contains 2.00 mole of acetic acid, CH3COOH, and 1.00 mole of calcium acetate, Ca(CH3COO)2. The solution is able to resist the addition of a small amount of strong acid or strong base with only minor changes in the pH of the solution. Larger quantities of strong acid or strong base can cause a significant change in pH. How many moles of nitric acid, HNO3, may be added before the pH begins to change significantly?\\nA. 0.500 mole\\nB. 1.00 mole\\nC. 2.00 mole\\nD. 3.00 mole\\nAnswer: C\\n\\nNitrous acid, HNO2, has a pKa value of 3.3. If a solution of nitrous acid is found to have a pH of 4.2, what can be said about the concentration of the conjugate acid/base pair found in solution?\\nA. [HNO2] > [NO2-]\\nB. [NO2-] > [HNO2]\\nC. [H2NO2+] > [HNO2]\\nD. [HNO2] > [H2NO2+]\\nAnswer: C\",\n",
      "    \"The following are multiple choice questions (with answers) about high school chemistry.\\n\\nWhich of the following is considered an acid anhydride?\\nA. HCl\\nB. H2SO3\\nC. SO2\\nD. Al(NO3)3\\nAnswer: C\\n\\nWhich of the following is expected to be a polar molecule?\\nA. PCl4F\\nB. BF3\\nC. CO2\\nD. Si(CH3)4\\nAnswer: A\\n\\nFrom the solubility rules, which of the following is true?\\nA. All chlorides, bromides, and iodides are soluble\\nB. All sulfates are soluble\\nC. All hydroxides are soluble\\nD. All ammonium-containing compounds are soluble\\nAnswer: D\\n\\nA new compound is synthesized and found to be a monoprotic acid with a molar mass of 248 g/mol. When 0.0050 mol of this acid are dissolved in 0.500 L of water, the pH is measured as 3.89. What is the pKa of this acid?\\nA. 3.89\\nB. 7.78\\nC. 5.78\\nD. 2.33\\nAnswer: C\\n\\nA solution contains 2.00 mole of acetic acid, CH3COOH, and 1.00 mole of calcium acetate, Ca(CH3COO)2. The solution is able to resist the addition of a small amount of strong acid or strong base with only minor changes in the pH of the solution. Larger quantities of strong acid or strong base can cause a significant change in pH. How many moles of nitric acid, HNO3, may be added before the pH begins to change significantly?\\nA. 0.500 mole\\nB. 1.00 mole\\nC. 2.00 mole\\nD. 3.00 mole\\nAnswer: C\\n\\nNitrous acid, HNO2, has a pKa value of 3.3. If a solution of nitrous acid is found to have a pH of 4.2, what can be said about the concentration of the conjugate acid/base pair found in solution?\\nA. [HNO2] > [NO2-]\\nB. [NO2-] > [HNO2]\\nC. [H2NO2+] > [HNO2]\\nD. [HNO2] > [H2NO2+]\\nAnswer: D\"\n",
      "  ],\n",
      "  \"input_correct_responses\": [\n",
      "    \"Answer: B\"\n",
      "  ],\n",
      "  \"output_prediction_text\": null,\n",
      "  \"output_parsed_answer\": \"A\",\n",
      "  \"output_choice_completions\": [\n",
      "    \"Answer: A\",\n",
      "    \"Answer: B\",\n",
      "    \"Answer: C\",\n",
      "    \"Answer: D\"\n",
      "  ],\n",
      "  \"output_choice_negative_log_likelihoods\": {\n",
      "    \"char\": [\n",
      "      1.0094810724258423,\n",
      "      1.1753536462783813,\n",
      "      2.134481906890869,\n",
      "      1.55036461353302\n",
      "    ],\n",
      "    \"raw\": [\n",
      "      1.0094810724258423,\n",
      "      1.1753536462783813,\n",
      "      2.134481906890869,\n",
      "      1.55036461353302\n",
      "    ],\n",
      "    \"token\": [\n",
      "      1.0094810724258423,\n",
      "      1.1753536462783813,\n",
      "      2.134481906890869,\n",
      "      1.55036461353302\n",
      "    ]\n",
      "  },\n",
      "  \"output_metrics\": {\n",
      "    \"acc_char\": 0.0,\n",
      "    \"acc_raw\": 0.0,\n",
      "    \"acc_token\": 0.0,\n",
      "    \"nll_char\": 1.0094810724258423,\n",
      "    \"nll_char_target\": 1.1753536462783813,\n",
      "    \"nll_char_target_avg_diff\": -0.3894222180048625,\n",
      "    \"nll_char_target_avg_ratio\": 0.8243598631650105,\n",
      "    \"nll_char_target_norm\": 1.1789414882659912,\n",
      "    \"nll_raw\": 1.0094810724258423,\n",
      "    \"nll_raw_target\": 1.1753536462783813,\n",
      "    \"nll_raw_target_avg_diff\": -0.3894222180048625,\n",
      "    \"nll_raw_target_avg_ratio\": 0.8243598631650105,\n",
      "    \"nll_raw_target_norm\": 1.1789414882659912,\n",
      "    \"nll_token\": 1.0094810724258423,\n",
      "    \"nll_token_target\": 1.1753536462783813,\n",
      "    \"nll_token_target_avg_diff\": -0.3894222180048625,\n",
      "    \"nll_token_target_avg_ratio\": 0.8243598631650105,\n",
      "    \"nll_token_target_norm\": 1.1789414882659912\n",
      "  },\n",
      "  \"is_correct\": false,\n",
      "  \"input_question_hash\": \"6f1f694cf995576f6ce63e6237e84ba9a8a0ade809de024af6a8fefe3242f91b\",\n",
      "  \"input_final_prompts_hash\": [\n",
      "    \"6c2304e79bc26e8e77ee1d4ac6b5fab88190a4a27381df8bb8cb3732cd365c07\",\n",
      "    \"8055c7dae4997bc98c896958e48bef149bf25f18b87173e3dd20e6a66ecaa183\",\n",
      "    \"ab27fc52e2eadfc52f108e97738a5f6c6d0c1ed48c57df2dba0afc336357e832\",\n",
      "    \"239a488d65601887d43ea0596e8ce9d189d6d264bd1f41f75fc019f5813ca164\"\n",
      "  ],\n",
      "  \"benchmark_label\": \"MMLU\",\n",
      "  \"eval_config\": {\n",
      "    \"max_gen_len\": \"0\",\n",
      "    \"max_prompt_len\": \"3840\",\n",
      "    \"num_few_shot\": \"5\",\n",
      "    \"prompt_fn\": \"functools.partial(<function jinja_format at 0x7f96ff1f2b90>, 'The following are multiple choice questions (with answers) about {{ subject }}.\\\\n\\\\n{% for x in few_shot -%}\\\\n{{ x[\\\"question\\\"] }}\\\\nA. {{ x[\\\"choices\\\"][\\\"A\\\"] }}\\\\nB. {{ x[\\\"choices\\\"][\\\"B\\\"] }}\\\\nC. {{ x[\\\"choices\\\"][\\\"C\\\"] }}\\\\nD. {{ x[\\\"choices\\\"][\\\"D\\\"] }}\\\\nAnswer: {{ x[\\\"answer\\\"] }}\\\\n\\\\n{% endfor -%}\\\\n{{ question }}\\\\nA. {{ choices[\\\"A\\\"] }}\\\\nB. {{ choices[\\\"B\\\"] }}\\\\nC. {{ choices[\\\"C\\\"] }}\\\\nD. {{ choices[\\\"D\\\"] }}\\\\nAnswer: {{ choice_text }}', subject='high school chemistry')\",\n",
      "    \"seed\": \"42\",\n",
      "    \"temperature\": \"0.0\",\n",
      "    \"top_k\": \"0\",\n",
      "    \"top_p\": \"0\"\n",
      "  }\n",
      "}\n"
     ]
    }
   ],
   "source": [
    "import json\n",
    "\n",
    "# for item in test_dataset['latest']:\n",
    "for item in test_dataset['latest']:\n",
    "    print(item.keys())\n",
    "    print(json.dumps(item, indent=2))\n",
    "    break\n",
    "    # if item['output_prediction_text'] is not None:\n",
    "        # print(item['input_question'])"
   ]
  },
  {
   "cell_type": "code",
   "execution_count": 78,
   "metadata": {},
   "outputs": [
    {
     "name": "stdout",
     "output_type": "stream",
     "text": [
      "{'A': '[HNO2] > [NO2-]', 'B': '[NO2-] > [HNO2]', 'C': '[H2NO2+] > [HNO2]', 'D': '[HNO2] > [H2NO2+]'}\n",
      "The following is a multiple choice question (with answers) about high school chemistry. Reason and give a final answer to the question. Your response should end with 'The final answer is [answer]' where [answer] is solely the letter corresponding to the correct choice.\n",
      "Nitrous acid, HNO2, has a pKa value of 3.3. If a solution of nitrous acid is found to have a pH of 4.2, what can be said about the concentration of the conjugate acid/base pair found in solution?\n",
      "A. A\n",
      "B. B\n",
      "C. C\n",
      "D. D\n",
      "\n"
     ]
    }
   ],
   "source": [
    "\n",
    "for item in test_dataset['latest']:\n",
    "    \n",
    "    # Extract the prompt_fn (a functools.partial wrapping our Jinja formatter) from eval_config.\n",
    "    prompt_fn = item['eval_config']['prompt_fn']\n",
    "    subject = item.get('subtask_name', 'Unknown Subject').replace(\"_\", \" \")\n",
    "    few_shot = []  # Replace or modify this list if you have few-shot examples.\n",
    "    question = item.get('input_question', 'No question available')\n",
    "\n",
    "    choices_list = item.get('input_choice_list', [])\n",
    "    print(choices_list)\n",
    "    # Assuming there are at least 4 choices, map them to A, B, C, D.\n",
    "    letters = ['A', 'B', 'C', 'D']\n",
    "    choices = {letter: choice for letter, choice in zip(letters, choices_list)}\n",
    "    \n",
    "    # Use output_prediction_text as the answer; fallback to a default message if not available.\n",
    "    choice_text = item.get('output_prediction_text') or \"No prediction available\"\n",
    "\n",
    "    prompt_string = (\n",
    "        f\"The following is a multiple choice question (with answers) about {subject}. Reason and give a final answer to the question. Your response should end with 'The final answer is [answer]' where [answer] is solely the letter corresponding to the correct choice.\\n\"\n",
    "        f\"{question}\\n\"\n",
    "        f\"A. {choices.get('A', '')}\\n\"\n",
    "        f\"B. {choices.get('B', '')}\\n\" \n",
    "        f\"C. {choices.get('C', '')}\\n\"\n",
    "        f\"D. {choices.get('D', '')}\\n\"\n",
    "    )\n",
    "\n",
    "    # print(\"Converted Prompt String:\\n\")\n",
    "    print(prompt_string)\n",
    "    break"
   ]
  }
 ],
 "metadata": {
  "kernelspec": {
   "display_name": "pytorch",
   "language": "python",
   "name": "python3"
  },
  "language_info": {
   "codemirror_mode": {
    "name": "ipython",
    "version": 3
   },
   "file_extension": ".py",
   "mimetype": "text/x-python",
   "name": "python",
   "nbconvert_exporter": "python",
   "pygments_lexer": "ipython3",
   "version": "3.11.11"
  }
 },
 "nbformat": 4,
 "nbformat_minor": 2
}
